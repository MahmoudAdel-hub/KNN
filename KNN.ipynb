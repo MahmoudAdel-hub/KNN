{
 "cells": [
  {
   "cell_type": "code",
   "execution_count": 1,
   "id": "333b039f",
   "metadata": {},
   "outputs": [],
   "source": [
    "import numpy as np \n",
    "from sklearn.datasets import load_iris\n",
    "from sklearn.neighbors import KNeighborsClassifier,KNeighborsRegressor"
   ]
  },
  {
   "cell_type": "code",
   "execution_count": 2,
   "id": "a218e804",
   "metadata": {},
   "outputs": [],
   "source": [
    "class KNNClassifier:\n",
    "    def __init__(self,k=5):\n",
    "        self.k=k\n",
    "    def fit(self,X_train,y_train):\n",
    "        self.X_train=X_train\n",
    "        self.y_train=y_train\n",
    "    def predict(self,X_test):\n",
    "        Predictions=[]\n",
    "        for _ in X_test:\n",
    "            Distances = np.sqrt(np.sum((self.X_train-_)**2,axis=1))\n",
    "            nearest_neighbors = np.argsort(Distances)[:self.k]\n",
    "            labels = self.y_train[nearest_neighbors]\n",
    "            Prediction = np.bincount(labels).argmax()\n",
    "            Predictions.append(Prediction)\n",
    "        return Predictions\n",
    "    def score(self ,X ,y):\n",
    "        Missclassified_points = 0\n",
    "        predictions = self.predict(X)\n",
    "        for _ ,_1 in zip(y,predictions):\n",
    "            if _ == _1 :\n",
    "                continue\n",
    "            else :\n",
    "                Missclassified_points+=1\n",
    "        return (len(y)-Missclassified_points)/len(y)\n",
    "class KNNRegressor:\n",
    "    def __init__(self,k=5):\n",
    "        self.k=k\n",
    "    def fit(self,X_train,y_train):\n",
    "        self.X_train=X_train\n",
    "        self.y_train=y_train\n",
    "    def predict(self,X_test):\n",
    "        Predictions=[]\n",
    "        for _ in X_test:\n",
    "            Distances = np.sqrt(np.sum((self.X_train-_)**2,axis=1))\n",
    "            nearest_neighbors = np.argsort(Distances)[:self.k]\n",
    "            labels = self.y_train[nearest_neighbors]\n",
    "            Prediction = np.mean(labels)\n",
    "            Predictions.append(Prediction)\n",
    "        return Predictions\n",
    "    def score(self ,X ,y,score='MSE'):\n",
    "        predictions = self.predict(X)\n",
    "        return 1-(np.sum((predictions-y)**2)/np.sum((y-np.mean(y))**2))"
   ]
  },
  {
   "cell_type": "code",
   "execution_count": 3,
   "id": "9531020d",
   "metadata": {},
   "outputs": [],
   "source": [
    "X,y=load_iris(return_X_y=True)"
   ]
  },
  {
   "cell_type": "code",
   "execution_count": 4,
   "id": "f47a0991",
   "metadata": {},
   "outputs": [],
   "source": [
    "Conditions=[]\n",
    "for n in range(1,150,1):\n",
    "    first_model= KNNClassifier(k=n)\n",
    "    first_model.fit(X,y)\n",
    "    score1 = first_model.score(X,y)\n",
    "    second_model = KNeighborsClassifier(n_neighbors=n)\n",
    "    second_model.fit(X,y)\n",
    "    score2 = second_model.score(X,y)\n",
    "    Conditions.append(round(score1,1) == round(score2,1))"
   ]
  },
  {
   "cell_type": "code",
   "execution_count": 5,
   "id": "88d04997",
   "metadata": {},
   "outputs": [
    {
     "data": {
      "text/plain": [
       "1.0"
      ]
     },
     "execution_count": 5,
     "metadata": {},
     "output_type": "execute_result"
    }
   ],
   "source": [
    "np.mean(Conditions)"
   ]
  },
  {
   "cell_type": "code",
   "execution_count": 6,
   "id": "34ac7183",
   "metadata": {},
   "outputs": [],
   "source": [
    "from sklearn.datasets import load_diabetes"
   ]
  },
  {
   "cell_type": "code",
   "execution_count": 7,
   "id": "0f537660",
   "metadata": {},
   "outputs": [],
   "source": [
    "X,y=load_diabetes(return_X_y=True)"
   ]
  },
  {
   "cell_type": "code",
   "execution_count": 8,
   "id": "42737072",
   "metadata": {},
   "outputs": [],
   "source": [
    "Conditions=[]\n",
    "for n in range(1,150,1):\n",
    "    first_model= KNNRegressor(k=n)\n",
    "    first_model.fit(X,y)\n",
    "    score1 = first_model.score(X,y)\n",
    "    second_model = KNeighborsRegressor(n_neighbors=n)\n",
    "    second_model.fit(X,y)\n",
    "    score2 = second_model.score(X,y)\n",
    "    Conditions.append(round(score1,1) == round(score2,1))"
   ]
  },
  {
   "cell_type": "code",
   "execution_count": 9,
   "id": "caa31618",
   "metadata": {},
   "outputs": [
    {
     "data": {
      "text/plain": [
       "1.0"
      ]
     },
     "execution_count": 9,
     "metadata": {},
     "output_type": "execute_result"
    }
   ],
   "source": [
    "np.mean(Conditions)"
   ]
  },
  {
   "cell_type": "code",
   "execution_count": null,
   "id": "0457b7a0",
   "metadata": {},
   "outputs": [],
   "source": []
  }
 ],
 "metadata": {
  "kernelspec": {
   "display_name": "Python 3 (ipykernel)",
   "language": "python",
   "name": "python3"
  },
  "language_info": {
   "codemirror_mode": {
    "name": "ipython",
    "version": 3
   },
   "file_extension": ".py",
   "mimetype": "text/x-python",
   "name": "python",
   "nbconvert_exporter": "python",
   "pygments_lexer": "ipython3",
   "version": "3.10.5"
  },
  "vp": {
   "vp_config_version": "1.0.0",
   "vp_menu_width": 273,
   "vp_note_display": false,
   "vp_note_width": 0,
   "vp_position": {
    "width": 278
   },
   "vp_section_display": false,
   "vp_signature": "VisualPython"
  }
 },
 "nbformat": 4,
 "nbformat_minor": 5
}
